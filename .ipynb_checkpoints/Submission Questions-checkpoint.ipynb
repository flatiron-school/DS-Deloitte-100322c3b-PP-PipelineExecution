{
 "cells": [
  {
   "cell_type": "markdown",
   "metadata": {},
   "source": [
    "# Were you able to successfully create and execute the pipeline using the provided walkthrough?"
   ]
  },
  {
   "cell_type": "markdown",
   "metadata": {},
   "source": [
    "###### Please provide your answer here &darr;"
   ]
  },
  {
   "cell_type": "markdown",
   "metadata": {},
   "source": [
    "No"
   ]
  },
  {
   "cell_type": "markdown",
   "metadata": {},
   "source": [
    "# What (if any) blockers did you encounter?"
   ]
  },
  {
   "cell_type": "markdown",
   "metadata": {},
   "source": [
    "###### Please provide your answer here &darr;"
   ]
  },
  {
   "cell_type": "markdown",
   "metadata": {},
   "source": [
    "On the wait step of the notebook:\n",
    "\n",
    "[{'StepName': 'AbaloneProcess',\n",
    "  'StartTime': datetime.datetime(2023, 1, 6, 21, 7, 39, 530000, tzinfo=tzlocal()),\n",
    "  'EndTime': datetime.datetime(2023, 1, 6, 21, 7, 40, 427000, tzinfo=tzlocal()),\n",
    "  'StepStatus': 'Failed',\n",
    "  'AttemptCount': 0,\n",
    "  'FailureReason': \"ClientError: Failed to invoke sagemaker:CreateProcessingJob. Error Details: The account-level service limit 'ml.m4.xlarge for processing job usage' is 0 Instances, with current utilization of 0 Instances and a request delta of 1 Instances. Please contact AWS support to request an increase for this limit.\\nRetry not appropriate on execution of step with PipelineExecutionArn arn:aws:sagemaker:us-east-1:516774212153:pipeline/abalonepipeline/execution/g8ya1eicbd0b and StepId AbaloneProcess. No retry policy configured for the exception type SAGEMAKER_RESOURCE_LIMIT.\",\n",
    "  'Metadata': {}}]"
   ]
  },
  {
   "cell_type": "markdown",
   "metadata": {},
   "source": [
    "# Do you have any suggestions for improving this material?"
   ]
  },
  {
   "cell_type": "markdown",
   "metadata": {},
   "source": [
    "###### Please provide your answer here &darr;"
   ]
  },
  {
   "cell_type": "markdown",
   "metadata": {},
   "source": [
    "No. Debugging and walking through has been very helpful"
   ]
  }
 ],
 "metadata": {
  "kernelspec": {
   "display_name": "Python 3",
   "language": "python",
   "name": "python3"
  },
  "language_info": {
   "codemirror_mode": {
    "name": "ipython",
    "version": 3
   },
   "file_extension": ".py",
   "mimetype": "text/x-python",
   "name": "python",
   "nbconvert_exporter": "python",
   "pygments_lexer": "ipython3",
   "version": "3.8.5"
  }
 },
 "nbformat": 4,
 "nbformat_minor": 5
}
